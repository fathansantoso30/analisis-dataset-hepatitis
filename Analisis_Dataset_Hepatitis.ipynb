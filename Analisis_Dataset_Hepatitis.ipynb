{
  "nbformat": 4,
  "nbformat_minor": 0,
  "metadata": {
    "colab": {
      "name": "Analisis Dataset Hepatitis",
      "provenance": []
    },
    "kernelspec": {
      "name": "python3",
      "display_name": "Python 3"
    },
    "language_info": {
      "name": "python"
    }
  },
  "cells": [
    {
      "cell_type": "markdown",
      "metadata": {
        "id": "016VFPs5rHQk"
      },
      "source": [
        "# Laporan Analisis Dataset Hepatitis\n",
        "\n",
        "Nama : Fathan Hudyaussie Santoso\n",
        "<br>NIM : 19/446776/TK/49881"
      ]
    },
    {
      "cell_type": "markdown",
      "metadata": {
        "id": "Iv9er28Xq2Dk"
      },
      "source": [
        "## Pendahuluan\n",
        "Hepatitis adalah peradangan hati. Kondisi ini dapat sembuh sendiri atau dapat berkembang menjadi fibrosis (jaringan parut), sirosis, atau kanker hati. Virus hepatitis adalah penyebab hepatitis yang paling umum di dunia tetapi infeksi lain, zat beracun (misalnya alkohol, obat-obatan tertentu), dan penyakit autoimun juga dapat menyebabkan hepatitis.\n",
        "<br><br>Ada 5 virus hepatitis utama, yang disebut sebagai tipe A, B, C, D dan E. 5 tipe ini paling mengkhawatirkan karena beban penyakit dan kematian yang ditimbulkannya serta potensi wabah dan penyebaran epidemi. Tipe B dan C menyebabkan penyakit kronis pada ratusan juta orang dan, bersama-sama, adalah penyebab paling umum dari sirosis hati dan kanker.\n",
        "<br><br>Sebagian besar pasien hepatitis datang dengan tanpa gejala, seringkali dokter mendiagnosis penyakit dengan tes laboratorium seperti tes fungsi hati, tes waktu protrombin, tes histologi, atau dengan pemeriksaan fisik pasien.\n",
        "<br><br>DATASET HEPATITIS UCI : \n",
        "[Sumber](https://archive.ics.uci.edu/ml/datasets/hepatitis)"
      ]
    },
    {
      "cell_type": "markdown",
      "metadata": {
        "id": "28e-hCjurpSa"
      },
      "source": [
        "## Analisis Data"
      ]
    },
    {
      "cell_type": "code",
      "metadata": {
        "id": "Ro_D6UjZjbtN"
      },
      "source": [
        "#Import Libraries\n",
        "import numpy as np\n",
        "import matplotlib.pyplot as plt \n",
        "import pandas as pd\n",
        "import seaborn as sns; sns.set()"
      ],
      "execution_count": 27,
      "outputs": []
    },
    {
      "cell_type": "code",
      "metadata": {
        "colab": {
          "base_uri": "https://localhost:8080/",
          "height": 243
        },
        "id": "dr9RbhYXmfR8",
        "outputId": "c61afd73-f2cf-44f3-9cf9-c07cd97c7dd8"
      },
      "source": [
        "#Import Dataset\n",
        "lbl = ['Class','AGE','SEX','STEROID','ANTIVIRALS','FATIGUE','MALAISE','ANOREXIA','LIVER BIG','LIVER FIRM','SPLEEN PALPABLE','SPIDERS','ASCITES','VARICES','BILIRUBIN','ALK PHOSPHATE','SGOT','ALBUMIN','PROTIME','HISTOLOGY']\n",
        "df = pd.read_csv(\"hepatitis.data\", names=lbl)\n",
        "df.head(5)\n"
      ],
      "execution_count": 28,
      "outputs": [
        {
          "output_type": "execute_result",
          "data": {
            "text/html": [
              "<div>\n",
              "<style scoped>\n",
              "    .dataframe tbody tr th:only-of-type {\n",
              "        vertical-align: middle;\n",
              "    }\n",
              "\n",
              "    .dataframe tbody tr th {\n",
              "        vertical-align: top;\n",
              "    }\n",
              "\n",
              "    .dataframe thead th {\n",
              "        text-align: right;\n",
              "    }\n",
              "</style>\n",
              "<table border=\"1\" class=\"dataframe\">\n",
              "  <thead>\n",
              "    <tr style=\"text-align: right;\">\n",
              "      <th></th>\n",
              "      <th>Class</th>\n",
              "      <th>AGE</th>\n",
              "      <th>SEX</th>\n",
              "      <th>STEROID</th>\n",
              "      <th>ANTIVIRALS</th>\n",
              "      <th>FATIGUE</th>\n",
              "      <th>MALAISE</th>\n",
              "      <th>ANOREXIA</th>\n",
              "      <th>LIVER BIG</th>\n",
              "      <th>LIVER FIRM</th>\n",
              "      <th>SPLEEN PALPABLE</th>\n",
              "      <th>SPIDERS</th>\n",
              "      <th>ASCITES</th>\n",
              "      <th>VARICES</th>\n",
              "      <th>BILIRUBIN</th>\n",
              "      <th>ALK PHOSPHATE</th>\n",
              "      <th>SGOT</th>\n",
              "      <th>ALBUMIN</th>\n",
              "      <th>PROTIME</th>\n",
              "      <th>HISTOLOGY</th>\n",
              "    </tr>\n",
              "  </thead>\n",
              "  <tbody>\n",
              "    <tr>\n",
              "      <th>0</th>\n",
              "      <td>2</td>\n",
              "      <td>30</td>\n",
              "      <td>2</td>\n",
              "      <td>1</td>\n",
              "      <td>2</td>\n",
              "      <td>2</td>\n",
              "      <td>2</td>\n",
              "      <td>2</td>\n",
              "      <td>1</td>\n",
              "      <td>2</td>\n",
              "      <td>2</td>\n",
              "      <td>2</td>\n",
              "      <td>2</td>\n",
              "      <td>2</td>\n",
              "      <td>1.00</td>\n",
              "      <td>85</td>\n",
              "      <td>18</td>\n",
              "      <td>4.0</td>\n",
              "      <td>?</td>\n",
              "      <td>1</td>\n",
              "    </tr>\n",
              "    <tr>\n",
              "      <th>1</th>\n",
              "      <td>2</td>\n",
              "      <td>50</td>\n",
              "      <td>1</td>\n",
              "      <td>1</td>\n",
              "      <td>2</td>\n",
              "      <td>1</td>\n",
              "      <td>2</td>\n",
              "      <td>2</td>\n",
              "      <td>1</td>\n",
              "      <td>2</td>\n",
              "      <td>2</td>\n",
              "      <td>2</td>\n",
              "      <td>2</td>\n",
              "      <td>2</td>\n",
              "      <td>0.90</td>\n",
              "      <td>135</td>\n",
              "      <td>42</td>\n",
              "      <td>3.5</td>\n",
              "      <td>?</td>\n",
              "      <td>1</td>\n",
              "    </tr>\n",
              "    <tr>\n",
              "      <th>2</th>\n",
              "      <td>2</td>\n",
              "      <td>78</td>\n",
              "      <td>1</td>\n",
              "      <td>2</td>\n",
              "      <td>2</td>\n",
              "      <td>1</td>\n",
              "      <td>2</td>\n",
              "      <td>2</td>\n",
              "      <td>2</td>\n",
              "      <td>2</td>\n",
              "      <td>2</td>\n",
              "      <td>2</td>\n",
              "      <td>2</td>\n",
              "      <td>2</td>\n",
              "      <td>0.70</td>\n",
              "      <td>96</td>\n",
              "      <td>32</td>\n",
              "      <td>4.0</td>\n",
              "      <td>?</td>\n",
              "      <td>1</td>\n",
              "    </tr>\n",
              "    <tr>\n",
              "      <th>3</th>\n",
              "      <td>2</td>\n",
              "      <td>31</td>\n",
              "      <td>1</td>\n",
              "      <td>?</td>\n",
              "      <td>1</td>\n",
              "      <td>2</td>\n",
              "      <td>2</td>\n",
              "      <td>2</td>\n",
              "      <td>2</td>\n",
              "      <td>2</td>\n",
              "      <td>2</td>\n",
              "      <td>2</td>\n",
              "      <td>2</td>\n",
              "      <td>2</td>\n",
              "      <td>0.70</td>\n",
              "      <td>46</td>\n",
              "      <td>52</td>\n",
              "      <td>4.0</td>\n",
              "      <td>80</td>\n",
              "      <td>1</td>\n",
              "    </tr>\n",
              "    <tr>\n",
              "      <th>4</th>\n",
              "      <td>2</td>\n",
              "      <td>34</td>\n",
              "      <td>1</td>\n",
              "      <td>2</td>\n",
              "      <td>2</td>\n",
              "      <td>2</td>\n",
              "      <td>2</td>\n",
              "      <td>2</td>\n",
              "      <td>2</td>\n",
              "      <td>2</td>\n",
              "      <td>2</td>\n",
              "      <td>2</td>\n",
              "      <td>2</td>\n",
              "      <td>2</td>\n",
              "      <td>1.00</td>\n",
              "      <td>?</td>\n",
              "      <td>200</td>\n",
              "      <td>4.0</td>\n",
              "      <td>?</td>\n",
              "      <td>1</td>\n",
              "    </tr>\n",
              "  </tbody>\n",
              "</table>\n",
              "</div>"
            ],
            "text/plain": [
              "   Class  AGE  SEX STEROID  ...  SGOT ALBUMIN PROTIME HISTOLOGY\n",
              "0      2   30    2       1  ...    18     4.0       ?         1\n",
              "1      2   50    1       1  ...    42     3.5       ?         1\n",
              "2      2   78    1       2  ...    32     4.0       ?         1\n",
              "3      2   31    1       ?  ...    52     4.0      80         1\n",
              "4      2   34    1       2  ...   200     4.0       ?         1\n",
              "\n",
              "[5 rows x 20 columns]"
            ]
          },
          "metadata": {},
          "execution_count": 28
        }
      ]
    },
    {
      "cell_type": "code",
      "metadata": {
        "colab": {
          "base_uri": "https://localhost:8080/"
        },
        "id": "anj-iMQ8s9rT",
        "outputId": "45965da0-582a-439d-896c-b38e755b084a"
      },
      "source": [
        "df.info()"
      ],
      "execution_count": 29,
      "outputs": [
        {
          "output_type": "stream",
          "name": "stdout",
          "text": [
            "<class 'pandas.core.frame.DataFrame'>\n",
            "RangeIndex: 155 entries, 0 to 154\n",
            "Data columns (total 20 columns):\n",
            " #   Column           Non-Null Count  Dtype \n",
            "---  ------           --------------  ----- \n",
            " 0   Class            155 non-null    int64 \n",
            " 1   AGE              155 non-null    int64 \n",
            " 2   SEX              155 non-null    int64 \n",
            " 3   STEROID          155 non-null    object\n",
            " 4   ANTIVIRALS       155 non-null    int64 \n",
            " 5   FATIGUE          155 non-null    object\n",
            " 6   MALAISE          155 non-null    object\n",
            " 7   ANOREXIA         155 non-null    object\n",
            " 8   LIVER BIG        155 non-null    object\n",
            " 9   LIVER FIRM       155 non-null    object\n",
            " 10  SPLEEN PALPABLE  155 non-null    object\n",
            " 11  SPIDERS          155 non-null    object\n",
            " 12  ASCITES          155 non-null    object\n",
            " 13  VARICES          155 non-null    object\n",
            " 14  BILIRUBIN        155 non-null    object\n",
            " 15  ALK PHOSPHATE    155 non-null    object\n",
            " 16  SGOT             155 non-null    object\n",
            " 17  ALBUMIN          155 non-null    object\n",
            " 18  PROTIME          155 non-null    object\n",
            " 19  HISTOLOGY        155 non-null    int64 \n",
            "dtypes: int64(5), object(15)\n",
            "memory usage: 24.3+ KB\n"
          ]
        }
      ]
    },
    {
      "cell_type": "markdown",
      "metadata": {
        "id": "70dlACPosmQi"
      },
      "source": [
        "Diperoleh informasi dari dataframe diatas bahwa dataset terdiri dari 19 fitur dan 1 Class (outcome) dengan jumlah data sebanyak 155 namun ditemukan nilai \"?\" pada beberapa fitur sehingga dibutuhkan tracing untuk menemukan persebaran nilai \"?\" pada dataset."
      ]
    },
    {
      "cell_type": "code",
      "metadata": {
        "colab": {
          "base_uri": "https://localhost:8080/"
        },
        "id": "AFA0_9iXnbjl",
        "outputId": "252e9706-097a-4135-fa9b-4c46e432c270"
      },
      "source": [
        "df.replace(\"?\",np.nan, inplace = True)\n",
        "df.isnull().sum()"
      ],
      "execution_count": 30,
      "outputs": [
        {
          "output_type": "execute_result",
          "data": {
            "text/plain": [
              "Class               0\n",
              "AGE                 0\n",
              "SEX                 0\n",
              "STEROID             1\n",
              "ANTIVIRALS          0\n",
              "FATIGUE             1\n",
              "MALAISE             1\n",
              "ANOREXIA            1\n",
              "LIVER BIG          10\n",
              "LIVER FIRM         11\n",
              "SPLEEN PALPABLE     5\n",
              "SPIDERS             5\n",
              "ASCITES             5\n",
              "VARICES             5\n",
              "BILIRUBIN           6\n",
              "ALK PHOSPHATE      29\n",
              "SGOT                4\n",
              "ALBUMIN            16\n",
              "PROTIME            67\n",
              "HISTOLOGY           0\n",
              "dtype: int64"
            ]
          },
          "metadata": {},
          "execution_count": 30
        }
      ]
    },
    {
      "cell_type": "markdown",
      "metadata": {
        "id": "0aUxp5v1t_gS"
      },
      "source": [
        "Dengan mengganti nilai \"?\" ke nan agar dapat melacak nilai null pada dataset, ditemukan beberapa data yang hilang dalam dataset dengan yang paling menonjol pada protrombin time (PROTIME) yang memiliki 67 data yang hilang (43%) dari 155 sedangkan sisanya dari data yang hilang terdiri dari kurang dari 10% dari keseluruhan dataset.\n",
        "<br><br>Melatih model dengan kumpulan data yang memiliki banyak nilai yang hilang dapat memengaruhi kualitas model machine learning secara drastis. Karena beberapa algoritma seperti KNN mengasumsikan bahwa semua nilai adalah numerik dan memiliki dan memiliki nilai yang berarti."
      ]
    },
    {
      "cell_type": "markdown",
      "metadata": {
        "id": "ckj3OrWm3wjY"
      },
      "source": [
        "Selanjutnya adalah melihat pembagian class / outcome pada dataset"
      ]
    },
    {
      "cell_type": "code",
      "metadata": {
        "id": "P3HlFan_v4dS"
      },
      "source": [
        "df[\"Class\"] = df[\"Class\"].astype(int)"
      ],
      "execution_count": 31,
      "outputs": []
    },
    {
      "cell_type": "code",
      "metadata": {
        "colab": {
          "base_uri": "https://localhost:8080/",
          "height": 301
        },
        "id": "-R_of23gwsS6",
        "outputId": "cca4cb74-3e3d-43ad-9162-b16db922f580"
      },
      "source": [
        "class_count=sns.countplot(x=\"Class\", data=df)\n",
        "plt.gca().set_xticklabels(['Meninggal','Hidup']);\n",
        "class_count.set_title(\"Jumlah Class / Outcome\")\n",
        "class_count.figure.savefig('class_count.png')"
      ],
      "execution_count": 32,
      "outputs": [
        {
          "output_type": "display_data",
          "data": {
            "image/png": "[encoded data removed]",
            "text/plain": [
              "<Figure size 432x288 with 1 Axes>"
            ]
          },
          "metadata": {}
        }
      ]
    },
    {
      "cell_type": "markdown",
      "metadata": {
        "id": "ObT8v3ROxCDC"
      },
      "source": [
        "Terlihat adanya ketidakseimbangan class / outcome yang terdiri dari 32 pasien meninggal (26%) dan 123 pasien hidup (74%) dari total 155 pasien. Ketidakseimbangan data dalam masalah klasifikasi memiliki efek yang signifikan dalam kualitas hasil prediksi yang diperoleh melalui model."
      ]
    },
    {
      "cell_type": "markdown",
      "metadata": {
        "id": "lAjCWA5RxuM5"
      },
      "source": [
        "## Kesimpulan\n",
        "\n",
        "Dari analisis yang sudah dilakukan terhadap dataset hepatitis, ditemukan beberapa data pada fitur tidak eksis / hilang serta hasil class / outcome yang imbalance. Dengan kondisi dataset yang tidak ideal seperti ini, maka dataset ini saya simpulkan tidak cocok untuk digunakan secara klinis seperti memprediksi tingkat persentase keberlangsungan hidup pasien.\n",
        "<br><br>Namun, tugas ini memberi saya wawasan tentang pentingnya seorang ahli bidang seperti profesi medis di bidang medis berharga di dunia ilmu data. Seorang klinisi dengan pengetahuan data science akan sangat membantu dalam mengetahui fitur apa yang butuh untuk diperoleh dan memahami data yang telah diperoleh sehingga dapat dianalisis lebih lanjut yang tentunya akan sangat bermanfaat pada bidang tersebut."
      ]
    }
  ]
}